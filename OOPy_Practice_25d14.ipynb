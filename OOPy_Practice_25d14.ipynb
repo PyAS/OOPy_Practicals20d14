{
 "metadata": {
  "name": "",
  "signature": "sha256:d97f317986a091b551d9737956ccfb44c056391fe36ad5c66605a03759d9d4ec"
 },
 "nbformat": 3,
 "nbformat_minor": 0,
 "worksheets": [
  {
   "cells": [
    {
     "cell_type": "markdown",
     "metadata": {},
     "source": [
      "### Before getting in to the book I talked about, no doubt it already began making sense to me, I thought of checking out a vide I found perhaps interesting. This is OOPy concept taught by a professor from Institute of Mathematical Sciences (IMSc), a national research institute in Chennai, India."
     ]
    },
    {
     "cell_type": "markdown",
     "metadata": {},
     "source": [
      "Prof. Madhavan Mukund began the talk by explaining lists and dictionaries."
     ]
    },
    {
     "cell_type": "markdown",
     "metadata": {},
     "source": [
      "### 1. Lists & Dictionaries"
     ]
    },
    {
     "cell_type": "code",
     "collapsed": false,
     "input": [
      "#Lists for example. They don't need to hold a particular data type. They can any values.\n",
      "l = [3,4,5]\n",
      "x = [\"hello\",2.4546, -0.34]"
     ],
     "language": "python",
     "metadata": {},
     "outputs": [],
     "prompt_number": 6
    },
    {
     "cell_type": "markdown",
     "metadata": {},
     "source": [
      "* Elements inside a list are identified by their position inside the brackets. And the first position in a list always begins with position-0 and it goes on like 1, 2, 3, .... "
     ]
    },
    {
     "cell_type": "markdown",
     "metadata": {},
     "source": [
      "* Dictionaries. It is in the form of a list where the elements inside a dictionary are not just an element, they are a pair with a relation among eachother. The pair is \"Key : Value\" and the relation is somewhat self-explanatory with the symbol ':', each key has a value.\n",
      "    key1 : value1\n",
      "    key2 : value2 and so on. Put these pairs inside '{}' and it is called a Dictionary.\n",
      "    `{key1 : value1, key2 : value2, key3 : value3}`\n",
      "* The indices which you use to identify elements inside a list are 0 to n-1; The indices which you use to locate elements in a dictionary are 'keys'"
     ]
    },
    {
     "cell_type": "code",
     "collapsed": false,
     "input": [
      "l = [] # An empty list\n",
      "d = {} # An empty dictionary\n",
      "# Example Dictionary"
     ],
     "language": "python",
     "metadata": {},
     "outputs": [],
     "prompt_number": 7
    },
    {
     "cell_type": "markdown",
     "metadata": {},
     "source": [
      "* Lets say the string zero has a value zero. How do you write this in a way python understands. \n",
      "* That is by writing `\"0\" : 0` inside {}. \"0\" is the key and 0 is the value in this case."
     ]
    },
    {
     "cell_type": "code",
     "collapsed": false,
     "input": [
      "d = {'0':0,'1':1,'2':2} # Single or double quotes don't matter usually."
     ],
     "language": "python",
     "metadata": {},
     "outputs": [],
     "prompt_number": 8
    },
    {
     "cell_type": "code",
     "collapsed": false,
     "input": [
      "d.keys()"
     ],
     "language": "python",
     "metadata": {},
     "outputs": [
      {
       "metadata": {},
       "output_type": "pyout",
       "prompt_number": 9,
       "text": [
        "['1', '0', '2']"
       ]
      }
     ],
     "prompt_number": 9
    },
    {
     "cell_type": "code",
     "collapsed": false,
     "input": [
      "d.values()"
     ],
     "language": "python",
     "metadata": {},
     "outputs": [
      {
       "metadata": {},
       "output_type": "pyout",
       "prompt_number": 10,
       "text": [
        "[1, 0, 2]"
       ]
      }
     ],
     "prompt_number": 10
    },
    {
     "cell_type": "markdown",
     "metadata": {},
     "source": [
      "_Got a problem here. Why the order changed is something I couldn't understand. Need to explore this._\n",
      "_I have 0,1,2 and it returned 1,0,2, not sure why.!?_"
     ]
    },
    {
     "cell_type": "code",
     "collapsed": false,
     "input": [
      "d['2']"
     ],
     "language": "python",
     "metadata": {},
     "outputs": [
      {
       "metadata": {},
       "output_type": "pyout",
       "prompt_number": 11,
       "text": [
        "2"
       ]
      }
     ],
     "prompt_number": 11
    },
    {
     "cell_type": "code",
     "collapsed": false,
     "input": [
      "d['0']"
     ],
     "language": "python",
     "metadata": {
      "slideshow": {
       "slide_type": "slide"
      }
     },
     "outputs": [
      {
       "metadata": {},
       "output_type": "pyout",
       "prompt_number": 12,
       "text": [
        "0"
       ]
      }
     ],
     "prompt_number": 12
    },
    {
     "cell_type": "code",
     "collapsed": false,
     "input": [
      "d['3'] = 3"
     ],
     "language": "python",
     "metadata": {
      "slideshow": {
       "slide_type": "slide"
      }
     },
     "outputs": [],
     "prompt_number": 27
    },
    {
     "cell_type": "code",
     "collapsed": false,
     "input": [
      "d"
     ],
     "language": "python",
     "metadata": {},
     "outputs": [
      {
       "metadata": {},
       "output_type": "pyout",
       "prompt_number": 15,
       "text": [
        "{'0': 0, '1': 1, '2': 2, '3': 3}"
       ]
      }
     ],
     "prompt_number": 15
    },
    {
     "cell_type": "code",
     "collapsed": false,
     "input": [
      "d['3']"
     ],
     "language": "python",
     "metadata": {},
     "outputs": [
      {
       "metadata": {},
       "output_type": "pyout",
       "prompt_number": 16,
       "text": [
        "3"
       ]
      }
     ],
     "prompt_number": 16
    },
    {
     "cell_type": "code",
     "collapsed": false,
     "input": [
      "d['22'] = 22"
     ],
     "language": "python",
     "metadata": {},
     "outputs": [],
     "prompt_number": 21
    },
    {
     "cell_type": "code",
     "collapsed": false,
     "input": [
      "d['2'] = 22"
     ],
     "language": "python",
     "metadata": {},
     "outputs": [],
     "prompt_number": 19
    },
    {
     "cell_type": "code",
     "collapsed": false,
     "input": [
      "d"
     ],
     "language": "python",
     "metadata": {},
     "outputs": [
      {
       "metadata": {},
       "output_type": "pyout",
       "prompt_number": 22,
       "text": [
        "{'0': 0, '1': 1, '2': 22, '22': 22, '3': 3}"
       ]
      }
     ],
     "prompt_number": 22
    },
    {
     "cell_type": "code",
     "collapsed": false,
     "input": [
      "d.keys()"
     ],
     "language": "python",
     "metadata": {},
     "outputs": [
      {
       "metadata": {},
       "output_type": "pyout",
       "prompt_number": 25,
       "text": [
        "['1', '0', '3', '2', '22']"
       ]
      }
     ],
     "prompt_number": 25
    },
    {
     "cell_type": "code",
     "collapsed": false,
     "input": [
      "# It is still random.\n",
      "sorted(d.keys())"
     ],
     "language": "python",
     "metadata": {},
     "outputs": [
      {
       "metadata": {},
       "output_type": "pyout",
       "prompt_number": 26,
       "text": [
        "['0', '1', '2', '22', '3']"
       ]
      }
     ],
     "prompt_number": 26
    },
    {
     "cell_type": "code",
     "collapsed": false,
     "input": [],
     "language": "python",
     "metadata": {},
     "outputs": []
    }
   ],
   "metadata": {}
  }
 ]
}