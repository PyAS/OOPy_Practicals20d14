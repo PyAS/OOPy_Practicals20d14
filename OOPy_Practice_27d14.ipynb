{
 "metadata": {
  "name": "",
  "signature": "sha256:b68b7f6af7a63aedbe612e2a2eafa81421161a12b7f7d4c9b5f7fe2d8edce481"
 },
 "nbformat": 3,
 "nbformat_minor": 0,
 "worksheets": [
  {
   "cells": [
    {
     "cell_type": "markdown",
     "metadata": {},
     "source": [
      "\n",
      "### As I was trying to read through the book, Python 3 Object Oriented Programming, by Dusty Phillips:\n",
      "* As previously mentioned, the whole first chapter is dedicated to give a theoretical overview of what object oriented programming is, from a perspective of designing algorithms especially using UML language.\n",
      "* While the chapter definitely made perfect sense, I had the same difficulty to understand once the the same concept is taught in the actual language (python).\n",
      "* An example to show why I thought the first chapter made perfect sense:\n",
      "    * Somewhere after the preliminary introduction, there begins a case study which gives us a sort of challnge to make a library catalog.\n",
      "    * The methodology is in the maintained style, figuring out the nouns (objects), adjective (attributes) and verbs (methods/functions) that could be listed in the process of making a library catalog.\n",
      "    * At one point, there comes a moment where the author asks if we could consider a few more objects/attributes/methods. And author confirms that the example client did not ask for such requirements where this extra set may be required. Therefore we do not have to consider them. \n",
      "    * However, the author leaves a comment that the way we design the alogrithm for such task must keep future requirements in view in order to serve them when necessary. That perfectly completes his explanation on object oriented programming.\n",
      "* An example to show why it didn't make sense to me in the language:\n",
      "    * Look at the python code below as given by the author.\n",
      "    * I couldn't understand why we needed that function `reset` there.\n",
      "    * I felt a shortage of explanation on this example. \n",
      "    * As I am stuck on this, I couldn't move forward to read more.\n",
      "    * Finally I had to turn back to the video I checked on the other day, by Prof. Madhavan Mukund\n",
      "* Meanwhile, I found this technical article of somebody on why he didn't believe in something called Object Oriented Programming....Here is the [Link](http://trashbird1240.wordpress.com/2010/07/08/object-oriented-programming-i-just-dont-get-it/). \n",
      "    * The discussion followed is also interesting. In fact, looking at one of the comments, I just ordered a Head First OOP book. I will check it out once I get it and update."
     ]
    },
    {
     "cell_type": "code",
     "collapsed": false,
     "input": [
      "# This is the example found in the book:\n",
      "class Point:\n",
      "    def reset(self):\n",
      "        self.x = 0\n",
      "        self.y = 0\n",
      "        \n",
      "p = Point()\n",
      "p.reset()\n",
      "print (p.x,p.y)"
     ],
     "language": "python",
     "metadata": {},
     "outputs": [
      {
       "output_type": "stream",
       "stream": "stdout",
       "text": [
        "(0, 0)\n"
       ]
      }
     ],
     "prompt_number": 1
    },
    {
     "cell_type": "code",
     "collapsed": false,
     "input": [
      "# Example in the video:\n",
      "class Point:\n",
      "    def setvalue(self,a,b):\n",
      "        self.x = a    # object.value; dot notation\n",
      "        self.y = b"
     ],
     "language": "python",
     "metadata": {},
     "outputs": [],
     "prompt_number": 2
    },
    {
     "cell_type": "markdown",
     "metadata": {},
     "source": [
      "### I will continue from here tomorrow."
     ]
    },
    {
     "cell_type": "code",
     "collapsed": false,
     "input": [],
     "language": "python",
     "metadata": {},
     "outputs": []
    }
   ],
   "metadata": {}
  }
 ]
}