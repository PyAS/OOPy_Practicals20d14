{
 "metadata": {
  "name": "",
  "signature": "sha256:257da9462f4644038d4e15df6a12bf926e53e3e6b9726fe0a05582e8e82c5f59"
 },
 "nbformat": 3,
 "nbformat_minor": 0,
 "worksheets": [
  {
   "cells": [
    {
     "cell_type": "markdown",
     "metadata": {},
     "source": [
      "\n",
      "### As I was trying to read through the book, Python 3 Object Oriented Programming, by Dusty Phillips:\n",
      "* As previously mentioned, the whole first chapter is dedicated to give a theoretical overview of what object oriented programming is, from a perspective of designing algorithms especially using UML language.\n",
      "* While the chapter definitely made perfect sense, I had the same difficulty to understand once the the same concept is taught in the actual language (python).\n",
      "* An example to show why I thought the first chapter made perfect sense:\n",
      "    * Somewhere after the preliminary introduction, there begins a case study which gives us a sort of challnge to make a library catalog.\n",
      "    * The methodology is in the maintained style, figuring out the nouns (objects), adjective (attributes) and verbs (methods/functions) that could be listed in the process of making a library catalog.\n",
      "    * At one point, there comes a moment where the author asks if we could consider a few more objects/attributes/methods. And author confirms that the example client did not ask for such requirements where this extra set may be required. Therefore we do not have to consider them. \n",
      "    * However, the author leaves a comment that the way we design the alogrithm for such task must keep future requirements in view in order to serve them when necessary. That perfectly completes his explanation on object oriented programming.\n",
      "* An example to show why it didn't make sense to me in the language:\n",
      "    * Look at the python code below as given by the author.\n",
      "    * I couldn't understand why we needed that function `reset` there.\n",
      "    * I felt a shortage of explanation on this example. \n",
      "    * As I am stuck on this, I couldn't move forward to read more.\n",
      "    * Finally I had to turn back to the video I checked on the other day, by Prof. Madhavan Mukund\n",
      "* Meanwhile, I found this technical article of somebody on why he didn't believe in something called Object Oriented Programming....Here is the [Link](http://trashbird1240.wordpress.com/2010/07/08/object-oriented-programming-i-just-dont-get-it/). \n",
      "    * The discussion followed is also interesting. In fact, looking at one of the comments, I just ordered a Head First OOP book. I will check it out once I get it and update."
     ]
    },
    {
     "cell_type": "code",
     "collapsed": false,
     "input": [
      "# This is the example found in the book:\n",
      "class Point:\n",
      "    def reset(self):\n",
      "        self.x = 0\n",
      "        self.y = 0\n",
      "        \n",
      "p = Point()\n",
      "p.reset()\n",
      "print (p.x,p.y)"
     ],
     "language": "python",
     "metadata": {},
     "outputs": [
      {
       "output_type": "stream",
       "stream": "stdout",
       "text": [
        "(0, 0)\n"
       ]
      }
     ],
     "prompt_number": 2
    },
    {
     "cell_type": "code",
     "collapsed": false,
     "input": [
      "# Example in the video:\n",
      "class Point:\n",
      "    def setvalue(self,a,b):\n",
      "        self.x = a    # object.value; dot notation\n",
      "        self.y = b"
     ],
     "language": "python",
     "metadata": {},
     "outputs": [],
     "prompt_number": 3
    },
    {
     "cell_type": "markdown",
     "metadata": {},
     "source": [
      "# Continuing on 26 January, 2015"
     ]
    },
    {
     "cell_type": "markdown",
     "metadata": {},
     "source": [
      "I must agree I am attracted to distractions. After wandering around the web space for all interesting and other sources for learning new things, I came back to Object Oriented Programming. The biggest disadvantage of my late learning of this\n",
      "subject is (not OOP, but programming and computers in general), that I am not able follow READ & DO tutorials. My mind is not able to register these complex concepts while reading tutorials. I always need a teacher who can talk to me in live. It's okay if the teacher is not in position to listen, but I want to listen to somebody talking. \n",
      "\n",
      "I searched a lot and selected another resource, one more [YouTube Video](https://www.youtube.com/watch?v=iyXyxvs-544&list=PLNBlhDem5ikH5jHk3rz40JJYMwUqMVqMY) which seems to be interesting. It is interesting because it showed me that I was thinking I understood the basics of OOP, far from truth. For **instance**, Oh, I better say, for example, every time we define a `class`, we would usually need to define some `methods` inside it which always have the syntax: \n",
      "\n",
      "> `def method_name(self):`\n",
      "\n",
      "And I am sure most of us have issues understanding what that `self` thingy is doing there. This video has a very nice explanation of that concept. Let me follow along and see what `self` is all about."
     ]
    },
    {
     "cell_type": "code",
     "collapsed": false,
     "input": [
      "class pet:\n",
      "    number_of_legs = 0"
     ],
     "language": "python",
     "metadata": {},
     "outputs": [],
     "prompt_number": 4
    },
    {
     "cell_type": "code",
     "collapsed": false,
     "input": [
      "doug = pet()"
     ],
     "language": "python",
     "metadata": {},
     "outputs": [],
     "prompt_number": 5
    },
    {
     "cell_type": "code",
     "collapsed": false,
     "input": [
      "doug.number_of_legs = 4"
     ],
     "language": "python",
     "metadata": {},
     "outputs": [],
     "prompt_number": 7
    },
    {
     "cell_type": "code",
     "collapsed": false,
     "input": [
      "print \"Doug has %s legs.\" % doug.number_of_legs"
     ],
     "language": "python",
     "metadata": {},
     "outputs": [
      {
       "output_type": "stream",
       "stream": "stdout",
       "text": [
        "Doug has 4 legs.\n"
       ]
      }
     ],
     "prompt_number": 8
    },
    {
     "cell_type": "code",
     "collapsed": false,
     "input": [
      "class pet:\n",
      "    number_of_legs = 0\n",
      "    \n",
      "    def sleep(self):\n",
      "        print \"zzzz\""
     ],
     "language": "python",
     "metadata": {},
     "outputs": [],
     "prompt_number": 9
    },
    {
     "cell_type": "code",
     "collapsed": false,
     "input": [
      "doug = pet()"
     ],
     "language": "python",
     "metadata": {},
     "outputs": [],
     "prompt_number": 10
    },
    {
     "cell_type": "code",
     "collapsed": false,
     "input": [
      "doug.number_of_legs = 4"
     ],
     "language": "python",
     "metadata": {},
     "outputs": [],
     "prompt_number": 11
    },
    {
     "cell_type": "code",
     "collapsed": false,
     "input": [
      "doug.sleep()"
     ],
     "language": "python",
     "metadata": {},
     "outputs": [
      {
       "output_type": "stream",
       "stream": "stdout",
       "text": [
        "zzzz\n"
       ]
      }
     ],
     "prompt_number": 12
    },
    {
     "cell_type": "code",
     "collapsed": false,
     "input": [
      "class pet:\n",
      "    number_of_legs = 0\n",
      "    \n",
      "    def sleep(self):\n",
      "        print \"zzzz\"\n",
      "    \n",
      "    def count_legs(self):\n",
      "        print \"I have %s legs.\" % doug.number_of_legs"
     ],
     "language": "python",
     "metadata": {},
     "outputs": [],
     "prompt_number": 13
    },
    {
     "cell_type": "code",
     "collapsed": false,
     "input": [
      "doug = pet()"
     ],
     "language": "python",
     "metadata": {},
     "outputs": [],
     "prompt_number": 14
    },
    {
     "cell_type": "code",
     "collapsed": false,
     "input": [
      "doug.count_legs()"
     ],
     "language": "python",
     "metadata": {},
     "outputs": [
      {
       "output_type": "stream",
       "stream": "stdout",
       "text": [
        "I have 0 legs.\n"
       ]
      }
     ],
     "prompt_number": 15
    },
    {
     "cell_type": "code",
     "collapsed": false,
     "input": [
      "doug.number_of_legs = 4"
     ],
     "language": "python",
     "metadata": {},
     "outputs": [],
     "prompt_number": 16
    },
    {
     "cell_type": "code",
     "collapsed": false,
     "input": [
      "doug.count_legs()"
     ],
     "language": "python",
     "metadata": {},
     "outputs": [
      {
       "output_type": "stream",
       "stream": "stdout",
       "text": [
        "I have 4 legs.\n"
       ]
      }
     ],
     "prompt_number": 17
    },
    {
     "cell_type": "code",
     "collapsed": false,
     "input": [
      "nemo = pet()"
     ],
     "language": "python",
     "metadata": {},
     "outputs": [],
     "prompt_number": 18
    },
    {
     "cell_type": "code",
     "collapsed": false,
     "input": [
      "nemo.number_of_legs = 0"
     ],
     "language": "python",
     "metadata": {},
     "outputs": [],
     "prompt_number": 19
    },
    {
     "cell_type": "code",
     "collapsed": false,
     "input": [
      "nemo.count_legs()"
     ],
     "language": "python",
     "metadata": {},
     "outputs": [
      {
       "output_type": "stream",
       "stream": "stdout",
       "text": [
        "I have 4 legs.\n"
       ]
      }
     ],
     "prompt_number": 21
    },
    {
     "cell_type": "code",
     "collapsed": false,
     "input": [
      "class pet:\n",
      "    number_of_legs = 0\n",
      "    \n",
      "    def sleep(self):\n",
      "        print \"zzzz\"\n",
      "    \n",
      "    def count_legs(self):\n",
      "        print \"I have %s legs.\" % self.number_of_legs"
     ],
     "language": "python",
     "metadata": {},
     "outputs": [],
     "prompt_number": 22
    },
    {
     "cell_type": "code",
     "collapsed": false,
     "input": [
      "sasha = pet()"
     ],
     "language": "python",
     "metadata": {},
     "outputs": [],
     "prompt_number": 23
    },
    {
     "cell_type": "code",
     "collapsed": false,
     "input": [
      "sasha.number_of_legs = 0"
     ],
     "language": "python",
     "metadata": {},
     "outputs": [],
     "prompt_number": 24
    },
    {
     "cell_type": "code",
     "collapsed": false,
     "input": [
      "sasha.count_legs()"
     ],
     "language": "python",
     "metadata": {},
     "outputs": [
      {
       "output_type": "stream",
       "stream": "stdout",
       "text": [
        "I have 0 legs.\n"
       ]
      }
     ],
     "prompt_number": 25
    },
    {
     "cell_type": "code",
     "collapsed": false,
     "input": [
      "lala = pet()"
     ],
     "language": "python",
     "metadata": {},
     "outputs": [],
     "prompt_number": 26
    },
    {
     "cell_type": "code",
     "collapsed": false,
     "input": [
      "lala.number_of_legs = 5    # Including the tail, for fun ;-)"
     ],
     "language": "python",
     "metadata": {},
     "outputs": [],
     "prompt_number": 27
    },
    {
     "cell_type": "code",
     "collapsed": false,
     "input": [
      "lala.count_legs()"
     ],
     "language": "python",
     "metadata": {},
     "outputs": [
      {
       "output_type": "stream",
       "stream": "stdout",
       "text": [
        "I have 5 legs.\n"
       ]
      }
     ],
     "prompt_number": 28
    },
    {
     "cell_type": "code",
     "collapsed": false,
     "input": [],
     "language": "python",
     "metadata": {},
     "outputs": []
    }
   ],
   "metadata": {}
  }
 ]
}