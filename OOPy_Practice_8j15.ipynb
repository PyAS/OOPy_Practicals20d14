{
 "metadata": {
  "name": ""
 },
 "nbformat": 3,
 "nbformat_minor": 0,
 "worksheets": [
  {
   "cells": [
    {
     "cell_type": "markdown",
     "metadata": {},
     "source": [
      "# Back to OOPs in Python"
     ]
    },
    {
     "cell_type": "markdown",
     "metadata": {},
     "source": [
      "Thanks to my natural inconsistent behavior, I wandered around a variety of websites in pursuit of advanced python, such as [NewCoder.io](http://www.newcoder.io) and thought it was okay to check them out as the website promised to teach about, among a couple others, data visualization using python. I was tempted. Although the material made perfect sense to me, reading between the lines reminded me that I should be pretty good with the code programming concept, especially OOPs. So I am back to it learning from the same [link](http://www.python-course.eu/python3_object_oriented_programming.php) where I stopped previouslt."
     ]
    },
    {
     "cell_type": "markdown",
     "metadata": {},
     "source": [
      "As a breather, [here](http://www.reddit.com/r/Python/comments/2fl6oy/for_the_life_of_me_i_cant_figure_out_oop_can/) and below is what made me get a gist of what OOP is all about.\n",
      "\n",
      ">If you have a class Animal, then there may be a function Animal.run(). You may define a class Fox and a class Tiger that inherit from Animal, and they automatically get the run() function. But you can customize specific behavior, in this case the behavior of run(). So for example you can make your Tiger leap when running, and your Fox stride when running, or something along those lines.\n",
      "\n",
      ">OOP is really as simple as that. The only other component to understand is the self argument, which you don't really need to understand right now. All you really need to know is that self is just like a variable and function namespace but for each time your class is used. Each time you create a new instance of a class (like by doing enemy = Tiger()) think of it like creating a new Python dict that has some pre-set variables and functions, and think of self as a way for your class to access its version of that dict.\n",
      "\n",
      ">If you're asking yourself \"why should I do any of this when I can just make a few regular functions?\", then know that this is the question you should be asking. Many times you will have no need to create a new class. You will frequently use other classes, like ones in the Python standard library, but you may not need to make any of your own. Once you start programming more you'll understand when and where to create classes."
     ]
    },
    {
     "cell_type": "markdown",
     "metadata": {},
     "source": [
      "### Back to the tutorial\n",
      "* This tutorial introduces OOP concepts in a flow as below, **Taking a public library as an anology**:\n",
      "    * Encapsulation\n",
      "    * Data Abstraction\n",
      "    * Polymorphism\n",
      "    * Inheritance\n",
      "    * Attributes\n",
      "    * Methods\n",
      "    * Instance Variables\n",
      "    * The `__init__` Method\n",
      "    * The `__str__` and `__repr__` Methods\n",
      "    * Public, Protected & Private Attributes\n",
      "    * Destructor"
     ]
    },
    {
     "cell_type": "markdown",
     "metadata": {},
     "source": [
      "* Here is the analogy:\n",
      "    * The books and other materials in a closed-access library are like `data`.\n",
      "    * Access to this data is controlled by the library staff who bring the books to the user.\n",
      "    * What the staff do is called *Methods*, and (both) their core function is to control access to data.\n",
      "    * This sort of controling can be seen as protecting the data (books and other material in case of a library) in a shell.\n",
      "    * This process is known as *Encapsulation*.\n",
      "    * Therefore, library is a `class`, books and materials are `instances` or `objects`of the `class`, defined by the `class`.\n",
      "    * Meaning, `objects` can be identified only as part of the `class`. Like bananas are `objects` which belong to the `class` of fruits.\n",
      "    * What makes a banana different from others in the same `class` of fruits is its `attributes`."
     ]
    },
    {
     "cell_type": "code",
     "collapsed": false,
     "input": [
      "# We have seen that everything in Python is a CLASS"
     ],
     "language": "python",
     "metadata": {},
     "outputs": [],
     "prompt_number": 2
    },
    {
     "cell_type": "markdown",
     "metadata": {},
     "source": [
      "## Robot `CLASS`"
     ]
    },
    {
     "cell_type": "code",
     "collapsed": false,
     "input": [
      "class Robot:\n",
      "    pass\n",
      "# To this point, this is already a well-defined, executable python class.\n",
      "# What follows below is just like improvizing the class functionality.\n",
      "# The well-defined class until when it says 'pass' when executed returns nothing, as I didn't ask for any result.\n",
      "# Now I can ask for a result == giving more functionality to the class Robot.\n",
      "# I will use the class Robot to create two new robots, x and y == creating instances/objects of the class Robot.\n",
      "# Object Instantiation is performed on the Lines 2 & 3. Two robots are created here.\n",
      "    \n",
      "if __name__ == \"__main__\":    #Line-1\n",
      "    x = Robot()               #Line-2\n",
      "    y = Robot()               #Line-3\n",
      "    y2 = y                    #Line-4\n",
      "    print (y == y2)           #Line-5\n",
      "    print (y == x)            #Line-6"
     ],
     "language": "python",
     "metadata": {},
     "outputs": [
      {
       "output_type": "stream",
       "stream": "stdout",
       "text": [
        "True\n",
        "False\n"
       ]
      }
     ],
     "prompt_number": 1
    },
    {
     "cell_type": "code",
     "collapsed": false,
     "input": [
      "# The new robots above had no attributes, names, etc.\n",
      "# Lets see the same well-defines class without any of the Lines as in the previous case.\n",
      "class Robot:\n",
      "    pass"
     ],
     "language": "python",
     "metadata": {},
     "outputs": [],
     "prompt_number": 2
    },
    {
     "cell_type": "code",
     "collapsed": false,
     "input": [
      "x = Robot()\n",
      "y = Robot()\n",
      "# Objects are instantiated again."
     ],
     "language": "python",
     "metadata": {},
     "outputs": [],
     "prompt_number": 3
    },
    {
     "cell_type": "code",
     "collapsed": false,
     "input": [
      "x.name = \"Marvin\"\n",
      "x.build_year = \"1979\" # x has its attributes now."
     ],
     "language": "python",
     "metadata": {},
     "outputs": [],
     "prompt_number": 4
    },
    {
     "cell_type": "code",
     "collapsed": false,
     "input": [
      "y.name = \"Caliban\"\n",
      "y.build_year = \"1993\" # y has its attributes now."
     ],
     "language": "python",
     "metadata": {},
     "outputs": [],
     "prompt_number": 5
    },
    {
     "cell_type": "code",
     "collapsed": false,
     "input": [
      "print(x.name) #A Method to call x\n",
      "print(y.name) #A Method to call y"
     ],
     "language": "python",
     "metadata": {},
     "outputs": [
      {
       "output_type": "stream",
       "stream": "stdout",
       "text": [
        "Marvin\n",
        "Caliban\n"
       ]
      }
     ],
     "prompt_number": 6
    },
    {
     "cell_type": "code",
     "collapsed": false,
     "input": [
      "# Attributes of an object are stored in a python dictionary format.\n",
      "# Each object has got its dictionary the moment it is instantiated.\n",
      "x.__dict__"
     ],
     "language": "python",
     "metadata": {},
     "outputs": [
      {
       "metadata": {},
       "output_type": "pyout",
       "prompt_number": 7,
       "text": [
        "{'build_year': '1979', 'name': 'Marvin'}"
       ]
      }
     ],
     "prompt_number": 7
    },
    {
     "cell_type": "code",
     "collapsed": false,
     "input": [
      "y.__dict__"
     ],
     "language": "python",
     "metadata": {},
     "outputs": [
      {
       "metadata": {},
       "output_type": "pyout",
       "prompt_number": 8,
       "text": [
        "{'build_year': '1993', 'name': 'Caliban'}"
       ]
      }
     ],
     "prompt_number": 8
    },
    {
     "cell_type": "code",
     "collapsed": false,
     "input": [
      "# In the above case, my class definition did not contain any attribute at all.\n",
      "# Attributes were given at the time of instantiating objects, so far.\n",
      "# Attributes can be attached also to the class name. See below."
     ],
     "language": "python",
     "metadata": {},
     "outputs": [],
     "prompt_number": 9
    },
    {
     "cell_type": "code",
     "collapsed": false,
     "input": [
      "class Robot:\n",
      "    pass"
     ],
     "language": "python",
     "metadata": {},
     "outputs": [],
     "prompt_number": 10
    },
    {
     "cell_type": "code",
     "collapsed": false,
     "input": [
      "Robot.number = 0"
     ],
     "language": "python",
     "metadata": {},
     "outputs": [],
     "prompt_number": 11
    },
    {
     "cell_type": "code",
     "collapsed": false,
     "input": [
      "x = Robot()"
     ],
     "language": "python",
     "metadata": {},
     "outputs": [],
     "prompt_number": 12
    },
    {
     "cell_type": "code",
     "collapsed": false,
     "input": [
      "x.number"
     ],
     "language": "python",
     "metadata": {},
     "outputs": [
      {
       "metadata": {},
       "output_type": "pyout",
       "prompt_number": 13,
       "text": [
        "0"
       ]
      }
     ],
     "prompt_number": 13
    },
    {
     "cell_type": "code",
     "collapsed": false,
     "input": [
      "# See, the attribute given to the class is automatically attached to the object in that class."
     ],
     "language": "python",
     "metadata": {},
     "outputs": [],
     "prompt_number": 14
    },
    {
     "cell_type": "code",
     "collapsed": false,
     "input": [
      "y = Robot()\n",
      "y.number"
     ],
     "language": "python",
     "metadata": {},
     "outputs": [
      {
       "metadata": {},
       "output_type": "pyout",
       "prompt_number": 15,
       "text": [
        "0"
       ]
      }
     ],
     "prompt_number": 15
    },
    {
     "cell_type": "code",
     "collapsed": false,
     "input": [
      "# But I can change it any time I want.\n",
      "y.number = 42"
     ],
     "language": "python",
     "metadata": {},
     "outputs": [],
     "prompt_number": 16
    },
    {
     "cell_type": "code",
     "collapsed": false,
     "input": [
      "y.number"
     ],
     "language": "python",
     "metadata": {},
     "outputs": [
      {
       "metadata": {},
       "output_type": "pyout",
       "prompt_number": 17,
       "text": [
        "42"
       ]
      }
     ],
     "prompt_number": 17
    },
    {
     "cell_type": "code",
     "collapsed": false,
     "input": [
      "# What about the class now, will it change too?\n",
      "Robot.number"
     ],
     "language": "python",
     "metadata": {},
     "outputs": [
      {
       "metadata": {},
       "output_type": "pyout",
       "prompt_number": 18,
       "text": [
        "0"
       ]
      }
     ],
     "prompt_number": 18
    },
    {
     "cell_type": "code",
     "collapsed": false,
     "input": [
      "# Okay, it didn't. But what about x. Will this change?\n",
      "x.number"
     ],
     "language": "python",
     "metadata": {},
     "outputs": [
      {
       "metadata": {},
       "output_type": "pyout",
       "prompt_number": 19,
       "text": [
        "0"
       ]
      }
     ],
     "prompt_number": 19
    },
    {
     "cell_type": "code",
     "collapsed": false,
     "input": [
      "# I am going to see what an AttributeError is.\n",
      "x.energy"
     ],
     "language": "python",
     "metadata": {},
     "outputs": [
      {
       "ename": "AttributeError",
       "evalue": "Robot instance has no attribute 'energy'",
       "output_type": "pyerr",
       "traceback": [
        "\u001b[0;31m---------------------------------------------------------------------------\u001b[0m\n\u001b[0;31mAttributeError\u001b[0m                            Traceback (most recent call last)",
        "\u001b[0;32m<ipython-input-20-9f363b707e1f>\u001b[0m in \u001b[0;36m<module>\u001b[0;34m()\u001b[0m\n\u001b[1;32m      1\u001b[0m \u001b[0;31m# I am going to see what an AttributeError is.\u001b[0m\u001b[0;34m\u001b[0m\u001b[0;34m\u001b[0m\u001b[0m\n\u001b[0;32m----> 2\u001b[0;31m \u001b[0mx\u001b[0m\u001b[0;34m.\u001b[0m\u001b[0menergy\u001b[0m\u001b[0;34m\u001b[0m\u001b[0m\n\u001b[0m",
        "\u001b[0;31mAttributeError\u001b[0m: Robot instance has no attribute 'energy'"
       ]
      }
     ],
     "prompt_number": 20
    },
    {
     "cell_type": "code",
     "collapsed": false,
     "input": [
      "# I didn't give such attribute to my robot. It threw an error, that's why."
     ],
     "language": "python",
     "metadata": {},
     "outputs": [],
     "prompt_number": 21
    },
    {
     "cell_type": "markdown",
     "metadata": {},
     "source": [
      "## `getattr` Function"
     ]
    },
    {
     "cell_type": "code",
     "collapsed": false,
     "input": [
      "# In the above example, what attributes does x have?\n",
      "x.__dict__"
     ],
     "language": "python",
     "metadata": {},
     "outputs": [
      {
       "metadata": {},
       "output_type": "pyout",
       "prompt_number": 22,
       "text": [
        "{}"
       ]
      }
     ],
     "prompt_number": 22
    },
    {
     "cell_type": "code",
     "collapsed": false,
     "input": [
      "y.__dict__"
     ],
     "language": "python",
     "metadata": {},
     "outputs": [
      {
       "metadata": {},
       "output_type": "pyout",
       "prompt_number": 23,
       "text": [
        "{'number': 42}"
       ]
      }
     ],
     "prompt_number": 23
    },
    {
     "cell_type": "code",
     "collapsed": false,
     "input": [
      "# Now there is another way I can give new attributes to my x robot.\n",
      "getattr(x, 'energy', 100)"
     ],
     "language": "python",
     "metadata": {},
     "outputs": [
      {
       "metadata": {},
       "output_type": "pyout",
       "prompt_number": 24,
       "text": [
        "100"
       ]
      }
     ],
     "prompt_number": 24
    },
    {
     "cell_type": "code",
     "collapsed": false,
     "input": [
      "x.__dict__"
     ],
     "language": "python",
     "metadata": {},
     "outputs": [
      {
       "metadata": {},
       "output_type": "pyout",
       "prompt_number": 25,
       "text": [
        "{}"
       ]
      }
     ],
     "prompt_number": 25
    },
    {
     "cell_type": "markdown",
     "metadata": {},
     "source": [
      "*** Oops...I miseed something here. ***"
     ]
    },
    {
     "cell_type": "code",
     "collapsed": false,
     "input": [
      "x.energy"
     ],
     "language": "python",
     "metadata": {},
     "outputs": [
      {
       "ename": "AttributeError",
       "evalue": "Robot instance has no attribute 'energy'",
       "output_type": "pyerr",
       "traceback": [
        "\u001b[0;31m---------------------------------------------------------------------------\u001b[0m\n\u001b[0;31mAttributeError\u001b[0m                            Traceback (most recent call last)",
        "\u001b[0;32m<ipython-input-26-bcdb9e8ce3bb>\u001b[0m in \u001b[0;36m<module>\u001b[0;34m()\u001b[0m\n\u001b[0;32m----> 1\u001b[0;31m \u001b[0mx\u001b[0m\u001b[0;34m.\u001b[0m\u001b[0menergy\u001b[0m\u001b[0;34m\u001b[0m\u001b[0m\n\u001b[0m",
        "\u001b[0;31mAttributeError\u001b[0m: Robot instance has no attribute 'energy'"
       ]
      }
     ],
     "prompt_number": 26
    },
    {
     "cell_type": "markdown",
     "metadata": {},
     "source": [
      "*** Nope, I am missing some concept here for sure. I'll have to check this out with somebody. ***"
     ]
    },
    {
     "cell_type": "markdown",
     "metadata": {},
     "source": [
      "## Alright. I checked on this with a friend.\n",
      "* The reason x did not get anything added to its dictionary is this.\n",
      "    * I used `getattr` function which is used only to print the value given to it.\n",
      "    * This function does not know to save that new key and that new value in the dictionary. \n",
      "    * It only returns what is given at the moment.\n",
      "    * To add the new attribute key and new attribute value to the dictionary, I must use `setattr`.\n",
      "   \n",
      "Let me see!"
     ]
    },
    {
     "cell_type": "code",
     "collapsed": false,
     "input": [
      "setattr(x, 'energy', 100)"
     ],
     "language": "python",
     "metadata": {},
     "outputs": [],
     "prompt_number": 27
    },
    {
     "cell_type": "code",
     "collapsed": false,
     "input": [
      "x.energy"
     ],
     "language": "python",
     "metadata": {},
     "outputs": [
      {
       "metadata": {},
       "output_type": "pyout",
       "prompt_number": 28,
       "text": [
        "100"
       ]
      }
     ],
     "prompt_number": 28
    },
    {
     "cell_type": "code",
     "collapsed": false,
     "input": [
      "x.__dict__"
     ],
     "language": "python",
     "metadata": {},
     "outputs": [
      {
       "metadata": {},
       "output_type": "pyout",
       "prompt_number": 29,
       "text": [
        "{'energy': 100}"
       ]
      }
     ],
     "prompt_number": 29
    },
    {
     "cell_type": "markdown",
     "metadata": {},
     "source": [
      "*** That's it! This function "
     ]
    },
    {
     "cell_type": "markdown",
     "metadata": {},
     "source": [
      "## Methods: And back to `Robot`"
     ]
    },
    {
     "cell_type": "code",
     "collapsed": false,
     "input": [
      "class Robot:\n",
      "    \n",
      "    def SayHello(self):\n",
      "        print(\"Hello\")\n",
      "\n",
      "if __name__ == \"__main__\":\n",
      "    x = Robot()\n",
      "    x.SayHello()"
     ],
     "language": "python",
     "metadata": {},
     "outputs": [
      {
       "output_type": "stream",
       "stream": "stdout",
       "text": [
        "Hello\n"
       ]
      }
     ],
     "prompt_number": 30
    },
    {
     "cell_type": "code",
     "collapsed": false,
     "input": [
      "# Nothing in this example is understood, right! I know .... that I don't know this."
     ],
     "language": "python",
     "metadata": {},
     "outputs": [],
     "prompt_number": 31
    },
    {
     "cell_type": "code",
     "collapsed": false,
     "input": [
      "Robot.SayHello(x)"
     ],
     "language": "python",
     "metadata": {},
     "outputs": [
      {
       "output_type": "stream",
       "stream": "stdout",
       "text": [
        "Hello\n"
       ]
      }
     ],
     "prompt_number": 33
    },
    {
     "cell_type": "markdown",
     "metadata": {},
     "source": [
      "### This is frustrating as it won't make sense without going forward no matter whether I understand this or not.\n",
      "What is happening here? What's the difference between `x.SayHello()` and `Robot.SayHello(x)`?"
     ]
    },
    {
     "cell_type": "code",
     "collapsed": false,
     "input": [
      "# Cry more!\n",
      "abs = Robot()"
     ],
     "language": "python",
     "metadata": {},
     "outputs": [],
     "prompt_number": 34
    },
    {
     "cell_type": "code",
     "collapsed": false,
     "input": [
      "Robot.SayHello(abs)"
     ],
     "language": "python",
     "metadata": {},
     "outputs": [
      {
       "output_type": "stream",
       "stream": "stdout",
       "text": [
        "Hello\n"
       ]
      }
     ],
     "prompt_number": 35
    },
    {
     "cell_type": "code",
     "collapsed": false,
     "input": [
      "abs.SayHello()"
     ],
     "language": "python",
     "metadata": {},
     "outputs": [
      {
       "output_type": "stream",
       "stream": "stdout",
       "text": [
        "Hello\n"
       ]
      }
     ],
     "prompt_number": 36
    },
    {
     "cell_type": "markdown",
     "metadata": {},
     "source": [
      "I am not getting what's the point then? The only way to get this is to go ahead without understanding it."
     ]
    },
    {
     "cell_type": "markdown",
     "metadata": {},
     "source": [
      "Sort of eureka moment. I was reading a different [tutorial](http://www.sthurlow.com/python/lesson08/) and found some answer close to my question above. Here it is.\n",
      "> Parameters affect the effect of a function. But what if a function needs to affect variables?\n",
      "\n",
      "This gave me a partial answer why classes-methods combo is superior to normal functions and how this differentiator brings in the essence of OOP in my code. In case of classes-methods, objects can overrule the class definition to an extent. I know I am talking in perfect non-technical layman terms, but that's the most I could do for now. I hope to revisit these areas once I can claim my technical skill here, anyway."
     ]
    },
    {
     "cell_type": "markdown",
     "metadata": {},
     "source": [
      "The complete actual quote is added here for reference. Thanks to [Steven Thurlow](http://sthurlow.com/python/).\n",
      "> One thing that you will get to know about programming, is that programmers like to be lazy. If something has been done before, why should you do it again?\n",
      "\n",
      "> That is what functions cover in python. You've already had your code do something special. Now you want to do it again. You put that special code into a function, and re-use it for all it is worth. You can refer to a function anywhere in your code, and the computer will always know what you are talking about. Handy, eh?\n",
      "\n",
      "> Of course, functions have their limitations. Functions don't store any information like variables do - every time a function is run, it starts afresh. However, certain functions and variables are related to each other very closely, and need to interact with each other a lot. For example, imagine you have a golf club. It has information about it (i.e. variables) like the length of the shaft, the material of the grip, and the material of the head. It also has functions associated with it, like the function of swinging your golf club, or the function of breaking it in pure frustration. For those functions, you need to know the variables of the shaft length, head material, etc.\n",
      "\n",
      "> That can easily be worked around with normal functions. Parameters affect the effect of a function. But what if a function needs to affect variables? What happens if each time you use your golf club, the shaft gets weaker, the grip on the handle wears away a little, you get that little more frustrated, and a new scratch is formed on the head of the club? A function cannot do that. A function only makes one output, not four or five, or five hundred. What is needed is a way to group functions and variables that are closely related into one place so that they can interact with each other.\n",
      "\n",
      "> Chances are that you also have more than one golf club. Without classes, you need to write a whole heap of code for each different golf club. This is a pain, seeing that all clubs share common features, it is just that some have changed properties - like what the shaft is made of, and it's weight. The ideal situation would be to have a design of your basic golf club. Each time you create a new club, simply specify its attributes - the length of its shaft, its weight, etc.\n",
      "\n",
      "> Or what if you want a golf club, which has added extra features? Maybe you decide to attach a clock to your golf club (why, I don't know - it was your idea). Does this mean that we have to create this golf club from scratch? We would have to write code first for our basic golf club, plus all of that again, and the code for the clock, for our new design. Wouldn't it be better if we were to just take our existing golf club, and then tack the code for the clock to it?\n",
      "\n",
      "> These problems that a thing called object-oriented-programming solves. It puts functions and variables together in a way that they can see each other and work together, be replicated, and altered as needed, and not when unneeded. And we use a thing called a 'class' to do this."
     ]
    },
    {
     "cell_type": "code",
     "collapsed": false,
     "input": [],
     "language": "python",
     "metadata": {},
     "outputs": []
    }
   ],
   "metadata": {}
  }
 ]
}