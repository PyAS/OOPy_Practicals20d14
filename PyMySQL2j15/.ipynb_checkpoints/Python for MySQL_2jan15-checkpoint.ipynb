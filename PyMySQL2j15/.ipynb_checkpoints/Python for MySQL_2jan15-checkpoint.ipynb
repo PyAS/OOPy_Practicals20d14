{
 "metadata": {
  "name": ""
 },
 "nbformat": 3,
 "nbformat_minor": 0,
 "worksheets": [
  {
   "cells": [
    {
     "cell_type": "markdown",
     "metadata": {},
     "source": [
      "# Intro to Python for MySQL and [Simple Examples](http://zetcode.com/db/mysqlpython/)"
     ]
    },
    {
     "cell_type": "markdown",
     "metadata": {},
     "source": [
      "##Before we start\n",
      "We need to install several packages to execute the examples in this tutorial.\n",
      "\n",
      "If you do not already have MySQL installed, we must install it.\n",
      "\n",
      "`$ sudo apt-get install mysql-server`\n",
      "\n",
      "This command installs the MySQL server and various other packages. While installing the package, we are prompted to enter a password for the MySQL root account.\n",
      "\n",
      "`$ apt-cache search MySQLdb`\n",
      "\n",
      "`python-mysqldb - A Python interface to MySQL`\n",
      "\n",
      "`python-mysqldb-dbg - A Python interface to MySQL (debug extension)\n",
      "\n",
      "`bibus - bibliographic database\n",
      "\n",
      "`eikazo - graphical frontend for SANE designed for mass-scanning`\n",
      "\n",
      "We don not know the package name for the MySQLdb module. We use the apt-cache command to figure it out.\n",
      "\n",
      "`$ sudo apt-get install python-mysqldb`\n",
      "\n",
      "Here we install the Python interface to the MySQL database. Both _mysql and MySQL modules.\n",
      "\n",
      "Next, we are going to create a new database user and a new database. We use the mysql client.\n",
      "\n",
      "`$ mysql -u root -p`\n",
      "\n",
      "`Enter password:`\n",
      "\n",
      "`Welcome to the MySQL monitor. Commands end with ; or \\g.`\n",
      "\n",
      "`Your MySQL connection id is 30`\n",
      "\n",
      "`Server version: 5.0.67-0ubuntu6 (Ubuntu)`\n",
      "\n",
      "Type 'help;' or '\\h' for help. Type '\\c' to clear the buffer.\n",
      "\n",
      "`mysql> SHOW DATABASES;`\n"
     ]
    },
    {
     "cell_type": "code",
     "collapsed": false,
     "input": [
      "#!/usr/bin/python\n",
      "# _*_ coding: utf-8 _*_\n",
      "\n",
      "import _mysql\n",
      "import sys\n",
      "\n",
      "try:\n",
      "        con = _mysql.connect('localhost','testuser','test623','testdb')\n",
      "\n",
      "        con.query(\"SELECT VERSION()\")\n",
      "        result = con.use_result()\n",
      "\n",
      "        print \"MySQL version: %s\" % \\\n",
      "                result.fetch_row()[0]\n",
      "\n",
      "except _mysql.Error,e:\n",
      "\n",
      "        print \"Error %d: %s\" % (e.args[0],e.args[1])\n",
      "        sys.exit(1)\n",
      "\n",
      "finally:\n",
      "        if con:\n",
      "                con.close()"
     ],
     "language": "python",
     "metadata": {},
     "outputs": [
      {
       "output_type": "stream",
       "stream": "stdout",
       "text": [
        "MySQL version: 5.5.35-1ubuntu1\n"
       ]
      }
     ],
     "prompt_number": 1
    },
    {
     "cell_type": "markdown",
     "metadata": {},
     "source": [
      "## Using MySQLdb Module"
     ]
    },
    {
     "cell_type": "code",
     "collapsed": false,
     "input": [
      "#!/usr/bin/python\n",
      "# _*_ coding: utf-8 _*_\n",
      "\n",
      "import MySQLdb as mdb\n",
      "import sys\n",
      "\n",
      "try:\n",
      "        con = mdb.connect('localhost','testuser', 'test623','testdb')\n",
      "\n",
      "        cur = con.cursor()\n",
      "        cur.execute(\"SELECT VERSION()\")\n",
      "\n",
      "        ver = cur.fetchone()\n",
      "\n",
      "        print \"DataBase version: %s\" % ver\n",
      "\n",
      "except mbd.Error,e:\n",
      "\n",
      "        print \"Error %d: %s\" % (e.args[0],e.args[1])\n",
      "        sys.exit(1)\n",
      "\n",
      "finally:\n",
      "        if con:\n",
      "                con.close()"
     ],
     "language": "python",
     "metadata": {},
     "outputs": [
      {
       "output_type": "stream",
       "stream": "stdout",
       "text": [
        "DataBase version: 5.5.35-1ubuntu1\n"
       ]
      }
     ],
     "prompt_number": 2
    },
    {
     "cell_type": "markdown",
     "metadata": {},
     "source": [
      "##Creating Table using MySQLdb Module"
     ]
    },
    {
     "cell_type": "code",
     "collapsed": false,
     "input": [
      "#!/usr/bin/python\n",
      "# _*_ coding: utf-8 _*_\n",
      "\n",
      "import MySQLdb as mdb\n",
      "\n",
      "con = mdb.connect('localhost','testuser','test623','testdb')\n",
      "\n",
      "with con:\n",
      "\n",
      "        cur = con.cursor()\n",
      "        cur.execute(\"DROP TABLE IF EXISTS Writers\")\n",
      "        cur.execute(\"CREATE TABLE Writers(Id INT PRIMARY KEY AUTO_INCREMENT, Name VARCHAR(25))\")\n",
      "        cur.execute(\"INSERT INTO Writers(Name) VALUES('Jack London')\")\n",
      "        cur.execute(\"INSERT INTO Writers(Name) VALUES('Honore de Balzac')\")\n",
      "        cur.execute(\"INSERT INTO Writers(Name) VALUES('Lion Feuchtwanger')\")\n",
      "        cur.execute(\"INSERT INTO Writers(Name) VALUES('Emile Zola')\")\n",
      "        cur.execute(\"INSERT INTO Writers(Name) VALUES('Truman Capote')\")"
     ],
     "language": "python",
     "metadata": {},
     "outputs": [],
     "prompt_number": 3
    },
    {
     "cell_type": "markdown",
     "metadata": {},
     "source": [
      "## Retrieving Created Table using MySQLdb Module"
     ]
    },
    {
     "cell_type": "code",
     "collapsed": false,
     "input": [
      "#!/usr/bin/python\n",
      "# _*_ coding: utf-8 _*_\n",
      "\n",
      "import MySQLdb as mdb\n",
      "\n",
      "con = mdb.connect('localhost','testuser','test623','testdb');\n",
      "\n",
      "with con:\n",
      "\n",
      "        cur = con.cursor()\n",
      "        cur.execute(\"SELECT * FROM Writers\")\n",
      "\n",
      "        rows = cur.fetchall()\n",
      "\n",
      "        for row in rows:\n",
      "                print row"
     ],
     "language": "python",
     "metadata": {},
     "outputs": [
      {
       "output_type": "stream",
       "stream": "stdout",
       "text": [
        "(1L, 'Jack London')\n",
        "(2L, 'Honore de Balzac')\n",
        "(3L, 'Lion Feuchtwanger')\n",
        "(4L, 'Emile Zola')\n",
        "(5L, 'Truman Capote')\n"
       ]
      }
     ],
     "prompt_number": 4
    },
    {
     "cell_type": "code",
     "collapsed": false,
     "input": [],
     "language": "python",
     "metadata": {},
     "outputs": []
    }
   ],
   "metadata": {}
  }
 ]
}