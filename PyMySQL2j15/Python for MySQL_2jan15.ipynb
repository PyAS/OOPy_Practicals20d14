{
 "metadata": {
  "name": ""
 },
 "nbformat": 3,
 "nbformat_minor": 0,
 "worksheets": [
  {
   "cells": [
    {
     "cell_type": "markdown",
     "metadata": {},
     "source": [
      "# Intro to Python for MySQL and [Simple Examples](http://zetcode.com/db/mysqlpython/)"
     ]
    },
    {
     "cell_type": "markdown",
     "metadata": {},
     "source": [
      "##Before we start\n",
      "We need to install several packages to execute the examples in this tutorial.\n",
      "\n",
      "If you do not already have MySQL installed, we must install it.\n",
      "\n",
      "`$ sudo apt-get install mysql-server`\n",
      "\n",
      "This command installs the MySQL server and various other packages. While installing the package, we are prompted to enter a password for the MySQL root account.\n",
      "\n",
      "`$ apt-cache search MySQLdb`\n",
      "\n",
      "`python-mysqldb - A Python interface to MySQL`\n",
      "\n",
      "`python-mysqldb-dbg - A Python interface to MySQL (debug extension)\n",
      "\n",
      "`bibus - bibliographic database\n",
      "\n",
      "`eikazo - graphical frontend for SANE designed for mass-scanning`\n",
      "\n",
      "We don not know the package name for the MySQLdb module. We use the apt-cache command to figure it out.\n",
      "\n",
      "`$ sudo apt-get install python-mysqldb`\n",
      "\n",
      "Here we install the Python interface to the MySQL database. Both _mysql and MySQL modules.\n",
      "\n",
      "Next, we are going to create a new database user and a new database. We use the mysql client.\n",
      "\n",
      "`$ mysql -u root -p`\n",
      "\n",
      "`Enter password:`\n",
      "\n",
      "`Welcome to the MySQL monitor. Commands end with ; or \\g.`\n",
      "\n",
      "`Your MySQL connection id is 30`\n",
      "\n",
      "`Server version: 5.0.67-0ubuntu6 (Ubuntu)`\n",
      "\n",
      "Type 'help;' or '\\h' for help. Type '\\c' to clear the buffer.\n",
      "\n",
      "`mysql> SHOW DATABASES;`\n"
     ]
    },
    {
     "cell_type": "code",
     "collapsed": false,
     "input": [
      "#!/usr/bin/python\n",
      "# _*_ coding: utf-8 _*_\n",
      "\n",
      "import _mysql\n",
      "import sys\n",
      "\n",
      "try:\n",
      "        con = _mysql.connect('localhost','testuser','test623','testdb')\n",
      "\n",
      "        con.query(\"SELECT VERSION()\")\n",
      "        result = con.use_result()\n",
      "\n",
      "        print \"MySQL version: %s\" % \\\n",
      "                result.fetch_row()[0]\n",
      "\n",
      "except _mysql.Error,e:\n",
      "\n",
      "        print \"Error %d: %s\" % (e.args[0],e.args[1])\n",
      "        sys.exit(1)\n",
      "\n",
      "finally:\n",
      "        if con:\n",
      "                con.close()"
     ],
     "language": "python",
     "metadata": {},
     "outputs": [
      {
       "output_type": "stream",
       "stream": "stdout",
       "text": [
        "MySQL version: 5.5.35-1ubuntu1\n"
       ]
      }
     ],
     "prompt_number": 1
    },
    {
     "cell_type": "markdown",
     "metadata": {},
     "source": [
      "## Using MySQLdb Module"
     ]
    },
    {
     "cell_type": "code",
     "collapsed": false,
     "input": [
      "#!/usr/bin/python\n",
      "# _*_ coding: utf-8 _*_\n",
      "\n",
      "import MySQLdb as mdb\n",
      "import sys\n",
      "\n",
      "try:\n",
      "        con = mdb.connect('localhost','testuser', 'test623','testdb')\n",
      "\n",
      "        cur = con.cursor()\n",
      "        cur.execute(\"SELECT VERSION()\")\n",
      "\n",
      "        ver = cur.fetchone()\n",
      "\n",
      "        print \"DataBase version: %s\" % ver\n",
      "\n",
      "except mbd.Error,e:\n",
      "\n",
      "        print \"Error %d: %s\" % (e.args[0],e.args[1])\n",
      "        sys.exit(1)\n",
      "\n",
      "finally:\n",
      "        if con:\n",
      "                con.close()"
     ],
     "language": "python",
     "metadata": {},
     "outputs": [
      {
       "output_type": "stream",
       "stream": "stdout",
       "text": [
        "DataBase version: 5.5.35-1ubuntu1\n"
       ]
      }
     ],
     "prompt_number": 2
    },
    {
     "cell_type": "markdown",
     "metadata": {},
     "source": [
      "##Creating Table using MySQLdb Module"
     ]
    },
    {
     "cell_type": "code",
     "collapsed": false,
     "input": [
      "#!/usr/bin/python\n",
      "# _*_ coding: utf-8 _*_\n",
      "\n",
      "import MySQLdb as mdb\n",
      "\n",
      "con = mdb.connect('localhost','testuser','test623','testdb')\n",
      "\n",
      "with con:\n",
      "\n",
      "        cur = con.cursor()\n",
      "        cur.execute(\"DROP TABLE IF EXISTS Writers\")\n",
      "        cur.execute(\"CREATE TABLE Writers(Id INT PRIMARY KEY AUTO_INCREMENT, Name VARCHAR(25))\")\n",
      "        cur.execute(\"INSERT INTO Writers(Name) VALUES('Jack London')\")\n",
      "        cur.execute(\"INSERT INTO Writers(Name) VALUES('Honore de Balzac')\")\n",
      "        cur.execute(\"INSERT INTO Writers(Name) VALUES('Lion Feuchtwanger')\")\n",
      "        cur.execute(\"INSERT INTO Writers(Name) VALUES('Emile Zola')\")\n",
      "        cur.execute(\"INSERT INTO Writers(Name) VALUES('Truman Capote')\")"
     ],
     "language": "python",
     "metadata": {},
     "outputs": [],
     "prompt_number": 3
    },
    {
     "cell_type": "markdown",
     "metadata": {},
     "source": [
      "## Retrieving Created Table using MySQLdb Module"
     ]
    },
    {
     "cell_type": "code",
     "collapsed": false,
     "input": [
      "#!/usr/bin/python\n",
      "# _*_ coding: utf-8 _*_\n",
      "\n",
      "import MySQLdb as mdb\n",
      "\n",
      "con = mdb.connect('localhost','testuser','test623','testdb');\n",
      "\n",
      "with con:\n",
      "\n",
      "        cur = con.cursor()\n",
      "        cur.execute(\"SELECT * FROM Writers\")\n",
      "\n",
      "        rows = cur.fetchall()\n",
      "\n",
      "        for row in rows:\n",
      "                print row"
     ],
     "language": "python",
     "metadata": {},
     "outputs": [
      {
       "output_type": "stream",
       "stream": "stdout",
       "text": [
        "(1L, 'Jack London')\n",
        "(2L, 'Honore de Balzac')\n",
        "(3L, 'Lion Feuchtwanger')\n",
        "(4L, 'Emile Zola')\n",
        "(5L, 'Truman Capote')\n"
       ]
      }
     ],
     "prompt_number": 4
    },
    {
     "cell_type": "markdown",
     "metadata": {},
     "source": [
      "## Retrieving Table as Dictionary using DictCursor Method"
     ]
    },
    {
     "cell_type": "code",
     "collapsed": false,
     "input": [
      "#!/usr/bin/python\n",
      "# _*_ coding: utf-8 _*_\n",
      "\n",
      "import MySQLdb as mdb\n",
      "\n",
      "con = mdb.connect('localhost','testuser','test623','testdb');\n",
      "\n",
      "with con:\n",
      "\n",
      "        cur = con.cursor(mdb.cursors.DictCursor)\n",
      "        cur.execute(\"SELECT * FROM Writers LIMIT 4\")\n",
      "\n",
      "        rows = cur.fetchall()\n",
      "\n",
      "        for row in rows:\n",
      "                print row[\"Id\"], row[\"Name\"]"
     ],
     "language": "python",
     "metadata": {},
     "outputs": [
      {
       "output_type": "stream",
       "stream": "stdout",
       "text": [
        "1 Jack London\n",
        "2 Honore de Balzac\n",
        "3 Lion Feuchtwanger\n",
        "4 Emile Zola\n"
       ]
      }
     ],
     "prompt_number": 1
    },
    {
     "cell_type": "markdown",
     "metadata": {},
     "source": [
      "## Transaction - commit() | rollback()"
     ]
    },
    {
     "cell_type": "markdown",
     "metadata": {},
     "source": [
      "###* commit()"
     ]
    },
    {
     "cell_type": "code",
     "collapsed": false,
     "input": [
      "#!/usr/bin/python\n",
      "# _*_ coding: utf-8 _*_\n",
      "\n",
      "import MySQLdb as mdb\n",
      "import sys\n",
      "\n",
      "try:\n",
      "        con = mdb.connect('localhost','testuser','test623','testdb')\n",
      "\n",
      "        cur = con.cursor()\n",
      "        cur.execute(\"DROP TABLE IF EXISTS Writers\")\n",
      "        cur.execute(\"CREATE TABLE Writers(Id INT PRIMARY KEY AUTO_INCREMENT, Name VARCHAR(25))\")\n",
      "        cur.execute(\"INSERT INTO Writers(Name) VALUES('Jack London')\")\n",
      "        cur.execute(\"INSERT INTO Writers(Name) VALUES('Honore de Balzac')\")\n",
      "        cur.execute(\"INSERT INTO Writers(Name) VALUES('Lion Feuchtwanger')\")\n",
      "        cur.execute(\"INSERT INTO Writers(Name) VALUES('Emile Zola')\")\n",
      "        cur.execute(\"INSERT INTO Writers(Name) VALUES('Truman Capote')\")\n",
      "        cur.execute(\"INSERT INTO Writers(Name) VALUES('Terry Pratchett')\")\n",
      "\n",
      "        con.commit()\n",
      "\n",
      "except mdb.Error,e:\n",
      "        if con:\n",
      "                con.rollback()\n",
      "\n",
      "        print \"Error %d: %s\" % (e.args[0],e.args[1])\n",
      "        sys.exit()\n",
      "\n",
      "finally:\n",
      "        if con:\n",
      "                con.close()"
     ],
     "language": "python",
     "metadata": {},
     "outputs": [],
     "prompt_number": 2
    },
    {
     "cell_type": "markdown",
     "metadata": {},
     "source": [
      "###* rollback()"
     ]
    },
    {
     "cell_type": "code",
     "collapsed": false,
     "input": [
      "#!/usr/bin/python\n",
      "# _*_ coding: utf-8 _*_\n",
      "\n",
      "import MySQLdb as mdb\n",
      "import sys\n",
      "\n",
      "con = mdb.connect('localhost','testuser','test623','testdb')\n",
      "\n",
      "cur = con.cursor()\n",
      "cur.execute(\"DROP TABLE IF EXISTS Writers\")\n",
      "cur.execute(\"CREATE TABLE Writers(Id INT PRIMARY KEY AUTO_INCREMENT, Name VARCHAR(25))\")\n",
      "cur.execute(\"INSERT INTO Writers(Name) VALUES('Jack London')\")\n",
      "cur.execute(\"INSERT INTO Writers(Name) VALUES('Honore de Balzac')\")\n",
      "cur.execute(\"INSERT INTO Writers(Name) VALUES('Lion Feuchtwanger')\")\n",
      "cur.execute(\"INSERT INTO Writers(Name) VALUES('Emile Zola')\")\n",
      "cur.execute(\"INSERT INTO Writers(Name) VALUES('Truman Capote')\")\n",
      "cur.execute(\"INSERT INTO Writers(Name) VALUES('Terry Pratchette')\")\n",
      "\n",
      "con.rollback()\n",
      "\n",
      "sys.exit()\n",
      "\n",
      "if con:\n",
      "        con.close()"
     ],
     "language": "python",
     "metadata": {},
     "outputs": [
      {
       "ename": "SystemExit",
       "evalue": "",
       "output_type": "pyerr",
       "traceback": [
        "An exception has occurred, use %tb to see the full traceback.\n",
        "\u001b[0;31mSystemExit\u001b[0m\n"
       ]
      },
      {
       "output_type": "stream",
       "stream": "stderr",
       "text": [
        "To exit: use 'exit', 'quit', or Ctrl-D.\n"
       ]
      }
     ],
     "prompt_number": 4
    },
    {
     "cell_type": "code",
     "collapsed": false,
     "input": [
      "%tb"
     ],
     "language": "python",
     "metadata": {},
     "outputs": [
      {
       "ename": "SystemExit",
       "evalue": "",
       "output_type": "pyerr",
       "traceback": [
        "\u001b[0;31m---------------------------------------------------------------------------\u001b[0m\n\u001b[0;31mSystemExit\u001b[0m                                Traceback (most recent call last)",
        "\u001b[0;32m<ipython-input-4-933feb4e3365>\u001b[0m in \u001b[0;36m<module>\u001b[0;34m()\u001b[0m\n\u001b[1;32m     19\u001b[0m \u001b[0mcon\u001b[0m\u001b[0;34m.\u001b[0m\u001b[0mrollback\u001b[0m\u001b[0;34m(\u001b[0m\u001b[0;34m)\u001b[0m\u001b[0;34m\u001b[0m\u001b[0m\n\u001b[1;32m     20\u001b[0m \u001b[0;34m\u001b[0m\u001b[0m\n\u001b[0;32m---> 21\u001b[0;31m \u001b[0msys\u001b[0m\u001b[0;34m.\u001b[0m\u001b[0mexit\u001b[0m\u001b[0;34m(\u001b[0m\u001b[0;34m)\u001b[0m\u001b[0;34m\u001b[0m\u001b[0m\n\u001b[0m\u001b[1;32m     22\u001b[0m \u001b[0;34m\u001b[0m\u001b[0m\n\u001b[1;32m     23\u001b[0m \u001b[0;32mif\u001b[0m \u001b[0mcon\u001b[0m\u001b[0;34m:\u001b[0m\u001b[0;34m\u001b[0m\u001b[0m\n",
        "\u001b[0;31mSystemExit\u001b[0m: "
       ]
      }
     ],
     "prompt_number": 5
    },
    {
     "cell_type": "markdown",
     "metadata": {},
     "source": [
      "I had no issue of this kind when I ran it on terminal. Not sure on this!"
     ]
    },
    {
     "cell_type": "code",
     "collapsed": false,
     "input": [],
     "language": "python",
     "metadata": {},
     "outputs": []
    }
   ],
   "metadata": {}
  }
 ]
}